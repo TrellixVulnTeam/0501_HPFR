{
 "cells": [
  {
   "cell_type": "code",
   "execution_count": 39,
   "metadata": {},
   "outputs": [
    {
     "name": "stdout",
     "output_type": "stream",
     "text": [
      "輸入第一個數字:7\n",
      "輸入第二個數字:0\n",
      "輸入運算子(+,-,*,/):/\n",
      "除數不得為0\n"
     ]
    }
   ],
   "source": [
    "def add(*args):\n",
    "    return sum(args)\n",
    "\n",
    "def minus(args1,args2):\n",
    "    return args1-args2\n",
    "\n",
    "def multiply(*args):\n",
    "    outcome=1\n",
    "    for i in args:\n",
    "        outcome*=i\n",
    "    return outcome\n",
    "\n",
    "def run_multiply(func,*args):\n",
    "    return func(*args)\n",
    "\n",
    "\n",
    "def divide(args1,args2):\n",
    "    if args2==0:\n",
    "        return '除數不得為0'\n",
    "    else:\n",
    "        return args1/args2\n",
    "\n",
    "def run_add(func,*args):\n",
    "    return func(*args)\n",
    "\n",
    "while(True):\n",
    "    first=input(\"輸入第一個數字:\")\n",
    "    second=input(\"輸入第二個數字:\")\n",
    "    operator=input(\"輸入運算子(+,-,*,/):\")\n",
    "    if str.isdigit(first) and str.isdigit(second):\n",
    "        isbreak=1\n",
    "        if operator=='+' :\n",
    "            print(run_add(add,eval(first),eval(second)))\n",
    "        elif operator=='-':\n",
    "            print(minus(eval(first),eval(second)))\n",
    "        elif operator=='*':\n",
    "            print(run_multiply(multiply,eval(first),eval(second)))\n",
    "        elif operator=='/':\n",
    "            print(divide(eval(first),eval(second)))\n",
    "    else:\n",
    "        isbreak=0\n",
    "        print(\"請輸入數字\")\n",
    "    if isbreak ==1:\n",
    "        break"
   ]
  },
  {
   "cell_type": "code",
   "execution_count": null,
   "metadata": {},
   "outputs": [],
   "source": []
  }
 ],
 "metadata": {
  "kernelspec": {
   "display_name": "Python 3",
   "language": "python",
   "name": "python3"
  },
  "language_info": {
   "codemirror_mode": {
    "name": "ipython",
    "version": 3
   },
   "file_extension": ".py",
   "mimetype": "text/x-python",
   "name": "python",
   "nbconvert_exporter": "python",
   "pygments_lexer": "ipython3",
   "version": "3.7.3"
  }
 },
 "nbformat": 4,
 "nbformat_minor": 2
}
